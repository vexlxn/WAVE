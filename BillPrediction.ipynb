{
 "cells": [
  {
   "cell_type": "code",
   "execution_count": 165,
   "id": "830aeb97",
   "metadata": {},
   "outputs": [],
   "source": [
    "#IMPORT LIBRARIES\n",
    "import numpy as np\n",
    "import pandas as pd\n",
    "import seaborn as sns\n",
    "import matplotlib.pyplot as plt\n",
    "from sklearn.preprocessing import LabelEncoder,StandardScaler\n",
    "from sklearn.model_selection import train_test_split\n",
    "from sklearn.linear_model import LinearRegression,Lasso\n",
    "from sklearn.metrics import mean_squared_error,mean_absolute_error\n",
    "from sklearn.ensemble import RandomForestRegressor\n",
    "import warnings\n",
    "warnings.filterwarnings(\"ignore\")"
   ]
  },
  {
   "cell_type": "code",
   "execution_count": 166,
   "id": "d04a2de7",
   "metadata": {},
   "outputs": [],
   "source": [
    "#IMPORT DATA\n",
    "#DATA UNDERSTANDING"
   ]
  },
  {
   "cell_type": "code",
   "execution_count": 167,
   "id": "98d7f2b2",
   "metadata": {},
   "outputs": [
    {
     "data": {
      "text/html": [
       "<div>\n",
       "<style scoped>\n",
       "    .dataframe tbody tr th:only-of-type {\n",
       "        vertical-align: middle;\n",
       "    }\n",
       "\n",
       "    .dataframe tbody tr th {\n",
       "        vertical-align: top;\n",
       "    }\n",
       "\n",
       "    .dataframe thead th {\n",
       "        text-align: right;\n",
       "    }\n",
       "</style>\n",
       "<table border=\"1\" class=\"dataframe\">\n",
       "  <thead>\n",
       "    <tr style=\"text-align: right;\">\n",
       "      <th></th>\n",
       "      <th>User ID</th>\n",
       "      <th>ID national</th>\n",
       "      <th>full name</th>\n",
       "      <th>family member</th>\n",
       "      <th>seasons</th>\n",
       "      <th>weekly</th>\n",
       "      <th>monthly</th>\n",
       "      <th>by cycle</th>\n",
       "    </tr>\n",
       "  </thead>\n",
       "  <tbody>\n",
       "    <tr>\n",
       "      <th>0</th>\n",
       "      <td>11666</td>\n",
       "      <td>9873698843</td>\n",
       "      <td>منير مد مد حميد</td>\n",
       "      <td>8</td>\n",
       "      <td>Spring</td>\n",
       "      <td>7.11</td>\n",
       "      <td>33.14</td>\n",
       "      <td>83.61</td>\n",
       "    </tr>\n",
       "    <tr>\n",
       "      <th>1</th>\n",
       "      <td>75296</td>\n",
       "      <td>9456605169</td>\n",
       "      <td>هبةة عبد الساتر مجدلاوية علان</td>\n",
       "      <td>2</td>\n",
       "      <td>Summer</td>\n",
       "      <td>2.07</td>\n",
       "      <td>8.05</td>\n",
       "      <td>25.89</td>\n",
       "    </tr>\n",
       "    <tr>\n",
       "      <th>2</th>\n",
       "      <td>20350</td>\n",
       "      <td>9451799815</td>\n",
       "      <td>سامر عبدالغني مرزوق بداير</td>\n",
       "      <td>4</td>\n",
       "      <td>Summer</td>\n",
       "      <td>4.70</td>\n",
       "      <td>15.89</td>\n",
       "      <td>55.92</td>\n",
       "    </tr>\n",
       "    <tr>\n",
       "      <th>3</th>\n",
       "      <td>94396</td>\n",
       "      <td>9582029028</td>\n",
       "      <td>حنبن عبد الحميد مجدي البسطامي</td>\n",
       "      <td>8</td>\n",
       "      <td>Winter</td>\n",
       "      <td>4.13</td>\n",
       "      <td>14.74</td>\n",
       "      <td>44.70</td>\n",
       "    </tr>\n",
       "    <tr>\n",
       "      <th>4</th>\n",
       "      <td>19178</td>\n",
       "      <td>9507702961</td>\n",
       "      <td>ايه محمد. مرجان عقيل</td>\n",
       "      <td>9</td>\n",
       "      <td>Spring</td>\n",
       "      <td>8.63</td>\n",
       "      <td>30.77</td>\n",
       "      <td>102.08</td>\n",
       "    </tr>\n",
       "  </tbody>\n",
       "</table>\n",
       "</div>"
      ],
      "text/plain": [
       "   User ID  ID national                      full name  family member seasons  \\\n",
       "0    11666   9873698843                منير مد مد حميد              8  Spring   \n",
       "1    75296   9456605169  هبةة عبد الساتر مجدلاوية علان              2  Summer   \n",
       "2    20350   9451799815      سامر عبدالغني مرزوق بداير              4  Summer   \n",
       "3    94396   9582029028  حنبن عبد الحميد مجدي البسطامي              8  Winter   \n",
       "4    19178   9507702961           ايه محمد. مرجان عقيل              9  Spring   \n",
       "\n",
       "   weekly  monthly  by cycle  \n",
       "0    7.11    33.14     83.61  \n",
       "1    2.07     8.05     25.89  \n",
       "2    4.70    15.89     55.92  \n",
       "3    4.13    14.74     44.70  \n",
       "4    8.63    30.77    102.08  "
      ]
     },
     "execution_count": 167,
     "metadata": {},
     "output_type": "execute_result"
    }
   ],
   "source": [
    "#READ THE DATASET\n",
    "dataTrain=pd.read_csv('water_usage_train.csv')\n",
    "\n",
    "dataTrain.head()"
   ]
  },
  {
   "cell_type": "code",
   "execution_count": 168,
   "id": "df484394",
   "metadata": {},
   "outputs": [],
   "source": [
    "# --- Tariff Constants (as per image_1e811f.png for Residential Citizen) ---\n",
    "# Water Tariff Rates per Cubic Meter (OMR/m³)\n",
    "TIER_1_RATE = 0.200  # For 0 - 5 m³\n",
    "TIER_2_RATE = 0.300  # For 6 - 10 m³\n",
    "TIER_3_RATE = 0.400  # For 11 - 20 m³\n",
    "TIER_4_RATE = 0.660  # For > 20 m³\n",
    "\n",
    "# Sewage Tariff (if applicable, based on image)\n",
    "SEWAGE_FIXED_MONTHLY_CHARGE = 2.100 # OMR\n",
    "SEWAGE_RATE_PER_M3 = 0.154 # OMR/m³ based on water consumption\n",
    "\n",
    "def calculate_actual_omr_bill(monthly_consumption_m3, include_sewage=False):\n",
    "    \"\"\"\n",
    "    Calculates the actual OMR water bill based on monthly consumption and tiered tariff rates\n",
    "    for Residential Citizen accounts, including an option for sewage charges.\n",
    "\n",
    "    Args:\n",
    "        monthly_consumption_m3 (float): Monthly water consumption in cubic meters (m³).\n",
    "        include_sewage (bool): If True, includes sewage charges in the total bill.\n",
    "\n",
    "    Returns:\n",
    "        float: The calculated actual bill in Omani Rial (OMR).\n",
    "    \"\"\"\n",
    "    water_bill = 0.0\n",
    "\n",
    "    if monthly_consumption_m3 <= 5:\n",
    "        water_bill = monthly_consumption_m3 * TIER_1_RATE\n",
    "    elif monthly_consumption_m3 <= 10:\n",
    "        water_bill = (5 * TIER_1_RATE) + \\\n",
    "                     ((monthly_consumption_m3 - 5) * TIER_2_RATE)\n",
    "    elif monthly_consumption_m3 <= 20:\n",
    "        water_bill = (5 * TIER_1_RATE) + \\\n",
    "                     (5 * TIER_2_RATE) + \\\n",
    "                     ((monthly_consumption_m3 - 10) * TIER_3_RATE)\n",
    "    else: # monthly_consumption_m3 > 20\n",
    "        water_bill = (5 * TIER_1_RATE) + \\\n",
    "                     (5 * TIER_2_RATE) + \\\n",
    "                     (10 * TIER_3_RATE) + \\\n",
    "                     ((monthly_consumption_m3 - 20) * TIER_4_RATE)\n",
    "    \n",
    "    total_bill = water_bill\n",
    "\n",
    "    if include_sewage:\n",
    "        total_bill += SEWAGE_FIXED_MONTHLY_CHARGE\n",
    "        total_bill += (monthly_consumption_m3 * SEWAGE_RATE_PER_M3) # Sewage per m³ based on water consumption\n",
    "\n",
    "    return round(total_bill, 3) # Round to 3 decimal places for currency precision"
   ]
  },
  {
   "cell_type": "code",
   "execution_count": 169,
   "id": "0648c69f",
   "metadata": {},
   "outputs": [
    {
     "name": "stdout",
     "output_type": "stream",
     "text": [
      "\n",
      "--- Calculating Actual OMR bill based on tariff ---\n",
      "'Actual OMR bill' column created based on tariff details (excluding sewage for now).\n",
      "\n",
      "Sample of monthly usage vs. calculated actual bill:\n",
      "   monthly  Actual OMR bill\n",
      "0    33.14           15.172\n",
      "1     8.05            1.915\n",
      "2    15.89            4.856\n",
      "3    14.74            4.396\n",
      "4    30.77           13.608\n",
      "5    22.91            8.421\n",
      "6    11.23            2.992\n",
      "7    16.25            5.000\n",
      "8    25.85           10.361\n",
      "9    16.76            5.204\n"
     ]
    }
   ],
   "source": [
    "# Apply the function to calculate the actual OMR bill.\n",
    "# Set include_sewage=True if you want to include sewage charges in the target bill.\n",
    "print(\"\\n--- Calculating Actual OMR bill based on tariff ---\")\n",
    "dataTrain['Actual OMR bill'] = dataTrain['monthly'].apply(lambda x: calculate_actual_omr_bill(x, include_sewage=False))\n",
    "print(\"'Actual OMR bill' column created based on tariff details (excluding sewage for now).\")\n",
    "\n",
    "# Display a sample of calculated bills (optional, for review)\n",
    "print(\"\\nSample of monthly usage vs. calculated actual bill:\")\n",
    "print(dataTrain[['monthly', 'Actual OMR bill']].head(10))"
   ]
  },
  {
   "cell_type": "code",
   "execution_count": 170,
   "id": "3d4175e9",
   "metadata": {},
   "outputs": [
    {
     "data": {
      "text/plain": [
       "(99999, 9)"
      ]
     },
     "execution_count": 170,
     "metadata": {},
     "output_type": "execute_result"
    }
   ],
   "source": [
    "#DISPLAY THE NUMBER OF ROWS AND COLUMNS\n",
    "dataTrain.shape"
   ]
  },
  {
   "cell_type": "code",
   "execution_count": 171,
   "id": "75b16ce7",
   "metadata": {},
   "outputs": [
    {
     "data": {
      "text/plain": [
       "Index(['User ID', 'ID national', 'full name', 'family member', 'seasons',\n",
       "       'weekly', 'monthly', 'by cycle', 'Actual OMR bill'],\n",
       "      dtype='object')"
      ]
     },
     "execution_count": 171,
     "metadata": {},
     "output_type": "execute_result"
    }
   ],
   "source": [
    "dataTrain.columns #to know the column names"
   ]
  },
  {
   "cell_type": "code",
   "execution_count": 172,
   "id": "f7a65a46",
   "metadata": {},
   "outputs": [
    {
     "data": {
      "text/plain": [
       "array(['Spring', 'Summer', 'Winter', 'Autumn'], dtype=object)"
      ]
     },
     "execution_count": 172,
     "metadata": {},
     "output_type": "execute_result"
    }
   ],
   "source": [
    "dataTrain['seasons'].unique() ##to know the unique models names"
   ]
  },
  {
   "cell_type": "code",
   "execution_count": 173,
   "id": "f86197a1",
   "metadata": {},
   "outputs": [
    {
     "data": {
      "text/plain": [
       "Autumn    25232\n",
       "Spring    25052\n",
       "Winter    24946\n",
       "Summer    24769\n",
       "Name: seasons, dtype: int64"
      ]
     },
     "execution_count": 173,
     "metadata": {},
     "output_type": "execute_result"
    }
   ],
   "source": [
    "dataTrain['seasons'].value_counts() #to know the count of each models names"
   ]
  },
  {
   "cell_type": "code",
   "execution_count": 174,
   "id": "f2be781c",
   "metadata": {},
   "outputs": [
    {
     "data": {
      "text/plain": [
       "User ID            0\n",
       "ID national        0\n",
       "full name          0\n",
       "family member      0\n",
       "seasons            0\n",
       "weekly             0\n",
       "monthly            0\n",
       "by cycle           0\n",
       "Actual OMR bill    0\n",
       "dtype: int64"
      ]
     },
     "execution_count": 174,
     "metadata": {},
     "output_type": "execute_result"
    }
   ],
   "source": [
    "#CHECKING AND DISPLAYING THE NULL VALUES IN EACH COLUMN\n",
    "dataTrain.isnull().sum()"
   ]
  },
  {
   "cell_type": "code",
   "execution_count": 175,
   "id": "72b7ff6a",
   "metadata": {},
   "outputs": [
    {
     "data": {
      "text/plain": [
       "(99999, 9)"
      ]
     },
     "execution_count": 175,
     "metadata": {},
     "output_type": "execute_result"
    }
   ],
   "source": [
    "dataTrain.shape"
   ]
  },
  {
   "cell_type": "code",
   "execution_count": 176,
   "id": "912278bd",
   "metadata": {},
   "outputs": [
    {
     "data": {
      "text/plain": [
       "User ID              int64\n",
       "ID national          int64\n",
       "full name           object\n",
       "family member        int64\n",
       "seasons             object\n",
       "weekly             float64\n",
       "monthly            float64\n",
       "by cycle           float64\n",
       "Actual OMR bill    float64\n",
       "dtype: object"
      ]
     },
     "execution_count": 176,
     "metadata": {},
     "output_type": "execute_result"
    }
   ],
   "source": [
    "dataTrain.dtypes"
   ]
  },
  {
   "cell_type": "code",
   "execution_count": 177,
   "id": "38c83222",
   "metadata": {},
   "outputs": [
    {
     "name": "stdout",
     "output_type": "stream",
     "text": [
      "User ID              int64\n",
      "ID national          int64\n",
      "full name          float64\n",
      "family member        int64\n",
      "seasons            float64\n",
      "weekly             float64\n",
      "monthly            float64\n",
      "by cycle           float64\n",
      "Actual OMR bill    float64\n",
      "dtype: object\n"
     ]
    }
   ],
   "source": [
    "# List of columns to convert to float\n",
    "columns_to_convert = [\n",
    "    'full name',\n",
    "    'seasons'\n",
    "]\n",
    "\n",
    "# Convert the specified columns to float\n",
    "for column in columns_to_convert:\n",
    "    dataTrain[column] = pd.to_numeric(dataTrain[column], errors='coerce')\n",
    "\n",
    "# Verify the conversion\n",
    "print(dataTrain.dtypes)\n",
    "\n",
    "# Optional: Handle missing values\n",
    "dataTrain.fillna(0, inplace=True)  # Replace NaN with 0 if necessary"
   ]
  },
  {
   "cell_type": "code",
   "execution_count": 178,
   "id": "cfe12354",
   "metadata": {},
   "outputs": [
    {
     "name": "stdout",
     "output_type": "stream",
     "text": [
      "Columns renamed to: 'Season', 'Monthly Consumption', 'Actual Bill OMR'.\n",
      "\n",
      "Updated DataFrame columns:\n",
      "Index(['User ID', 'ID national', 'full name', 'family member', 'Season',\n",
      "       'weekly', 'Monthly Consumption', 'by cycle', 'Actual Bill OMR'],\n",
      "      dtype='object')\n"
     ]
    }
   ],
   "source": [
    "# Rename columns for clarity and consistency\n",
    "dataTrain.rename(columns={\n",
    "    'seasons': 'Season',\n",
    "    'monthly': 'Monthly Consumption',\n",
    "    'Actual OMR bill': 'Actual Bill OMR' # Renaming the newly created column for consistency\n",
    "}, inplace=True)\n",
    "\n",
    "print(\"Columns renamed to: 'Season', 'Monthly Consumption', 'Actual Bill OMR'.\")\n",
    "print(\"\\nUpdated DataFrame columns:\")\n",
    "print(dataTrain.columns)"
   ]
  },
  {
   "cell_type": "code",
   "execution_count": 179,
   "id": "44a06ba9",
   "metadata": {},
   "outputs": [],
   "source": [
    "#EXPLORATORY DATA ANALYSIS (EDA)\n",
    "#CHECKING THE CORRELATION BETWEEN THE NUMERICAL FEATURES"
   ]
  },
  {
   "cell_type": "code",
   "execution_count": 180,
   "id": "7cedf5fe",
   "metadata": {},
   "outputs": [
    {
     "data": {
      "image/png": "[encoded data removed]",
      "text/plain": [
       "<Figure size 1600x1000 with 2 Axes>"
      ]
     },
     "metadata": {},
     "output_type": "display_data"
    }
   ],
   "source": [
    "#HEAT MAP\n",
    "plt.figure(figsize=(16,10))\n",
    "numerical_features = dataTrain.select_dtypes(include=['number']).columns\n",
    "corr = dataTrain[numerical_features].corr()\n",
    "sns.heatmap(corr,annot=True)\n",
    "plt.show()"
   ]
  },
  {
   "cell_type": "code",
   "execution_count": 181,
   "id": "b4fef023",
   "metadata": {},
   "outputs": [],
   "source": [
    "#REGRESSION PLOT TO CHECK THE CORRELATION BETWEEN THE NUMERICAL FEATURES\n",
    "#AND THE TARGET"
   ]
  },
  {
   "cell_type": "code",
   "execution_count": 182,
   "id": "e875a972",
   "metadata": {},
   "outputs": [
    {
     "data": {
      "image/png": "[encoded data removed]",
      "text/plain": [
       "<Figure size 1000x500 with 1 Axes>"
      ]
     },
     "metadata": {},
     "output_type": "display_data"
    }
   ],
   "source": [
    "plt.figure(figsize=(10, 5))\n",
    "sns.regplot(x='weekly', y='Actual Bill OMR', data=dataTrain) # <-- Changed 'monthly' to 'Monthly Consumption'\n",
    "plt.title(\"Weekly Consumption vs Actual Bill OMR\")\n",
    "plt.show()"
   ]
  },
  {
   "cell_type": "code",
   "execution_count": 183,
   "id": "536f22b9",
   "metadata": {},
   "outputs": [
    {
     "name": "stdout",
     "output_type": "stream",
     "text": [
      "The Pearson Correlation Coefficient is 0.9498392763457764  with a P-value of P = 0.0\n"
     ]
    }
   ],
   "source": [
    "from scipy import stats\n",
    "pearson_coef, p_value = stats.pearsonr(dataTrain['weekly'], dataTrain['Actual Bill OMR'])\n",
    "print(\"The Pearson Correlation Coefficient is\", pearson_coef, \" with a P-value of P =\", p_value)"
   ]
  },
  {
   "cell_type": "code",
   "execution_count": 184,
   "id": "00abf9e3",
   "metadata": {},
   "outputs": [
    {
     "data": {
      "image/png": "[encoded data removed]",
      "text/plain": [
       "<Figure size 1000x500 with 1 Axes>"
      ]
     },
     "metadata": {},
     "output_type": "display_data"
    }
   ],
   "source": [
    "plt.figure(figsize=(10, 5))\n",
    "sns.regplot(x='Monthly Consumption', y='Actual Bill OMR', data=dataTrain) # <-- Changed 'monthly' to 'Monthly Consumption'\n",
    "plt.title(\"Monthly Consumption vs Actual Bill OMR\")\n",
    "plt.show()"
   ]
  },
  {
   "cell_type": "code",
   "execution_count": 185,
   "id": "ec288b8f",
   "metadata": {},
   "outputs": [
    {
     "name": "stdout",
     "output_type": "stream",
     "text": [
      "The Pearson Correlation Coefficient is 0.9878747666530843  with a P-value of P = 0.0\n"
     ]
    }
   ],
   "source": [
    "from scipy import stats\n",
    "pearson_coef, p_value = stats.pearsonr(dataTrain['Monthly Consumption'], dataTrain['Actual Bill OMR'])\n",
    "print(\"The Pearson Correlation Coefficient is\", pearson_coef, \" with a P-value of P =\", p_value)"
   ]
  },
  {
   "cell_type": "code",
   "execution_count": 186,
   "id": "a0944b97",
   "metadata": {},
   "outputs": [
    {
     "data": {
      "image/png": "[encoded data removed]",
      "text/plain": [
       "<Figure size 1000x500 with 1 Axes>"
      ]
     },
     "metadata": {},
     "output_type": "display_data"
    }
   ],
   "source": [
    "plt.figure(figsize=(10, 5))\n",
    "sns.regplot(x='by cycle', y='Actual Bill OMR', data=dataTrain) # <-- Changed 'monthly' to 'Monthly Consumption'\n",
    "plt.title(\"Monthly Consumption vs Actual Bill OMR\")\n",
    "plt.show()"
   ]
  },
  {
   "cell_type": "code",
   "execution_count": 187,
   "id": "75dee017",
   "metadata": {},
   "outputs": [
    {
     "name": "stdout",
     "output_type": "stream",
     "text": [
      "The Pearson Correlation Coefficient is 0.9502671625069469  with a P-value of P = 0.0\n"
     ]
    }
   ],
   "source": [
    "from scipy import stats\n",
    "pearson_coef, p_value = stats.pearsonr(dataTrain['by cycle'], dataTrain['Actual Bill OMR'])\n",
    "print(\"The Pearson Correlation Coefficient is\", pearson_coef, \" with a P-value of P =\", p_value)"
   ]
  },
  {
   "cell_type": "code",
   "execution_count": 188,
   "id": "c3647c22",
   "metadata": {},
   "outputs": [
    {
     "data": {
      "image/png": "[encoded data removed]",
      "text/plain": [
       "<Figure size 1000x500 with 1 Axes>"
      ]
     },
     "metadata": {},
     "output_type": "display_data"
    }
   ],
   "source": [
    "plt.figure(figsize=(10, 5))\n",
    "sns.regplot(x='family member', y='Actual Bill OMR', data=dataTrain) # <-- Changed 'monthly' to 'Monthly Consumption'\n",
    "plt.title(\"Family Member vs Actual Bill OMR\")\n",
    "plt.show()"
   ]
  },
  {
   "cell_type": "code",
   "execution_count": 189,
   "id": "8fc9a172",
   "metadata": {},
   "outputs": [
    {
     "name": "stdout",
     "output_type": "stream",
     "text": [
      "The Pearson Correlation Coefficient is 0.7891205322886878  with a P-value of P = 0.0\n"
     ]
    }
   ],
   "source": [
    "from scipy import stats\n",
    "pearson_coef, p_value = stats.pearsonr(dataTrain['family member'], dataTrain['Actual Bill OMR'])\n",
    "print(\"The Pearson Correlation Coefficient is\", pearson_coef, \" with a P-value of P =\", p_value)"
   ]
  },
  {
   "cell_type": "code",
   "execution_count": 190,
   "id": "9cea26f1",
   "metadata": {},
   "outputs": [],
   "source": [
    "#BOX PLOT TO CHECK THE CORRELATION BETWEEN THE STRINGS FEATURES\n",
    "#AND THE TARGET"
   ]
  },
  {
   "cell_type": "code",
   "execution_count": 191,
   "id": "746ea849",
   "metadata": {},
   "outputs": [],
   "source": [
    "# Restore seasons from CSV or manually reverse-map if possible\n",
    "dataTrain['seasons'] = pd.read_csv('water_usage_train.csv')['seasons']"
   ]
  },
  {
   "cell_type": "code",
   "execution_count": 192,
   "id": "e7e9851f",
   "metadata": {},
   "outputs": [
    {
     "data": {
      "image/png": "[encoded data removed]",
      "text/plain": [
       "<Figure size 1000x600 with 1 Axes>"
      ]
     },
     "metadata": {},
     "output_type": "display_data"
    }
   ],
   "source": [
    "import matplotlib.pyplot as plt\n",
    "import seaborn as sns\n",
    "\n",
    "plt.figure(figsize=(10, 6))\n",
    "\n",
    "# Boxplot: Seasons vs Monthly Water Usage\n",
    "sns.boxplot(x=\"seasons\", y=\"Actual Bill OMR\", data=dataTrain)\n",
    "\n",
    "plt.xlabel(\"Season\")\n",
    "plt.ylabel(\"Actuall Bill OMR\")\n",
    "plt.title(\"Water Usage by Season\")\n",
    "plt.xticks(rotation=45)\n",
    "plt.tight_layout()\n",
    "plt.show()"
   ]
  },
  {
   "cell_type": "code",
   "execution_count": 193,
   "id": "c631f473",
   "metadata": {},
   "outputs": [],
   "source": [
    "#DROPPING THE FEATURES THAT HAS NO IMPACT ON THE TARGET\n",
    "dataTrain.drop(['User ID', 'ID national', 'full name'], axis = 1, inplace = True, errors='ignore')"
   ]
  },
  {
   "cell_type": "code",
   "execution_count": 194,
   "id": "66cabc6a",
   "metadata": {},
   "outputs": [
    {
     "data": {
      "text/plain": [
       "['family member',\n",
       " 'Season',\n",
       " 'weekly',\n",
       " 'Monthly Consumption',\n",
       " 'by cycle',\n",
       " 'Actual Bill OMR',\n",
       " 'seasons']"
      ]
     },
     "execution_count": 194,
     "metadata": {},
     "output_type": "execute_result"
    }
   ],
   "source": [
    "column_names = dataTrain.columns.tolist()\n",
    "column_names"
   ]
  },
  {
   "cell_type": "code",
   "execution_count": 195,
   "id": "2ec88cc5",
   "metadata": {},
   "outputs": [
    {
     "data": {
      "text/plain": [
       "['family member',\n",
       " 'Season',\n",
       " 'weekly',\n",
       " 'Monthly Consumption',\n",
       " 'by cycle',\n",
       " 'seasons']"
      ]
     },
     "execution_count": 195,
     "metadata": {},
     "output_type": "execute_result"
    }
   ],
   "source": [
    "feature_column_names = dataTrain.drop(['Actual Bill OMR'], axis = 1).columns.tolist()\n",
    "feature_column_names"
   ]
  },
  {
   "cell_type": "code",
   "execution_count": 196,
   "id": "9b590f76",
   "metadata": {},
   "outputs": [
    {
     "data": {
      "text/plain": [
       "(99999, 7)"
      ]
     },
     "execution_count": 196,
     "metadata": {},
     "output_type": "execute_result"
    }
   ],
   "source": [
    "dataTrain.shape"
   ]
  },
  {
   "cell_type": "code",
   "execution_count": 197,
   "id": "ac0eacab",
   "metadata": {},
   "outputs": [
    {
     "data": {
      "text/html": [
       "<div>\n",
       "<style scoped>\n",
       "    .dataframe tbody tr th:only-of-type {\n",
       "        vertical-align: middle;\n",
       "    }\n",
       "\n",
       "    .dataframe tbody tr th {\n",
       "        vertical-align: top;\n",
       "    }\n",
       "\n",
       "    .dataframe thead th {\n",
       "        text-align: right;\n",
       "    }\n",
       "</style>\n",
       "<table border=\"1\" class=\"dataframe\">\n",
       "  <thead>\n",
       "    <tr style=\"text-align: right;\">\n",
       "      <th></th>\n",
       "      <th>family member</th>\n",
       "      <th>Season</th>\n",
       "      <th>weekly</th>\n",
       "      <th>Monthly Consumption</th>\n",
       "      <th>by cycle</th>\n",
       "      <th>Actual Bill OMR</th>\n",
       "    </tr>\n",
       "  </thead>\n",
       "  <tbody>\n",
       "    <tr>\n",
       "      <th>count</th>\n",
       "      <td>99999.000000</td>\n",
       "      <td>99999.0</td>\n",
       "      <td>99999.000000</td>\n",
       "      <td>99999.000000</td>\n",
       "      <td>99999.000000</td>\n",
       "      <td>99999.000000</td>\n",
       "    </tr>\n",
       "    <tr>\n",
       "      <th>mean</th>\n",
       "      <td>5.502275</td>\n",
       "      <td>0.0</td>\n",
       "      <td>4.181349</td>\n",
       "      <td>17.918232</td>\n",
       "      <td>53.791900</td>\n",
       "      <td>6.474724</td>\n",
       "    </tr>\n",
       "    <tr>\n",
       "      <th>std</th>\n",
       "      <td>2.270426</td>\n",
       "      <td>0.0</td>\n",
       "      <td>2.104152</td>\n",
       "      <td>9.019419</td>\n",
       "      <td>27.106391</td>\n",
       "      <td>4.738247</td>\n",
       "    </tr>\n",
       "    <tr>\n",
       "      <th>min</th>\n",
       "      <td>2.000000</td>\n",
       "      <td>0.0</td>\n",
       "      <td>0.810000</td>\n",
       "      <td>3.450000</td>\n",
       "      <td>10.370000</td>\n",
       "      <td>0.690000</td>\n",
       "    </tr>\n",
       "    <tr>\n",
       "      <th>25%</th>\n",
       "      <td>4.000000</td>\n",
       "      <td>0.0</td>\n",
       "      <td>2.470000</td>\n",
       "      <td>10.630000</td>\n",
       "      <td>31.830000</td>\n",
       "      <td>2.752000</td>\n",
       "    </tr>\n",
       "    <tr>\n",
       "      <th>50%</th>\n",
       "      <td>6.000000</td>\n",
       "      <td>0.0</td>\n",
       "      <td>3.900000</td>\n",
       "      <td>16.690000</td>\n",
       "      <td>50.140000</td>\n",
       "      <td>5.176000</td>\n",
       "    </tr>\n",
       "    <tr>\n",
       "      <th>75%</th>\n",
       "      <td>7.000000</td>\n",
       "      <td>0.0</td>\n",
       "      <td>5.600000</td>\n",
       "      <td>23.940000</td>\n",
       "      <td>71.870000</td>\n",
       "      <td>9.100000</td>\n",
       "    </tr>\n",
       "    <tr>\n",
       "      <th>max</th>\n",
       "      <td>9.000000</td>\n",
       "      <td>0.0</td>\n",
       "      <td>10.840000</td>\n",
       "      <td>46.460000</td>\n",
       "      <td>139.360000</td>\n",
       "      <td>23.964000</td>\n",
       "    </tr>\n",
       "  </tbody>\n",
       "</table>\n",
       "</div>"
      ],
      "text/plain": [
       "       family member   Season        weekly  Monthly Consumption  \\\n",
       "count   99999.000000  99999.0  99999.000000         99999.000000   \n",
       "mean        5.502275      0.0      4.181349            17.918232   \n",
       "std         2.270426      0.0      2.104152             9.019419   \n",
       "min         2.000000      0.0      0.810000             3.450000   \n",
       "25%         4.000000      0.0      2.470000            10.630000   \n",
       "50%         6.000000      0.0      3.900000            16.690000   \n",
       "75%         7.000000      0.0      5.600000            23.940000   \n",
       "max         9.000000      0.0     10.840000            46.460000   \n",
       "\n",
       "           by cycle  Actual Bill OMR  \n",
       "count  99999.000000     99999.000000  \n",
       "mean      53.791900         6.474724  \n",
       "std       27.106391         4.738247  \n",
       "min       10.370000         0.690000  \n",
       "25%       31.830000         2.752000  \n",
       "50%       50.140000         5.176000  \n",
       "75%       71.870000         9.100000  \n",
       "max      139.360000        23.964000  "
      ]
     },
     "execution_count": 197,
     "metadata": {},
     "output_type": "execute_result"
    }
   ],
   "source": [
    "#A descriptive analysis to check incorrect entries and anormalies\n",
    "dataTrain.describe()"
   ]
  },
  {
   "cell_type": "code",
   "execution_count": 198,
   "id": "f55f948d",
   "metadata": {},
   "outputs": [],
   "source": [
    "# 💡 Observations:\n",
    "\n",
    "# 🔍 Outliers:\n",
    "# - 'Monthly Consumption' has a max value of 46.46, which is more than double the 75th percentile (23.94), indicating significant outliers.\n",
    "# - 'by cycle' has a max value of 139.36, compared to the 75th percentile (71.87), which suggests strong outlier presence.\n",
    "# - 'weekly' has a max of 10.84, while its 75th percentile is 5.60 — nearly double, which points to potential extreme values.\n",
    "\n",
    "# ⚠️ Data Quality Issues:\n",
    "# - 'Season' contains only 0s across all 99,999 records, indicating that it may be:\n",
    "#   - A corrupted column, or\n",
    "#   - Non-informative (no variability).\n",
    "#   ✅ Recommendation: Drop this feature from modeling.\n",
    "\n",
    "# 📈 High Variability:\n",
    "# - 'by cycle' has a very high standard deviation of 27.10 relative to its mean (53.79), showing large fluctuations in the data.\n",
    "# - 'Monthly Consumption' also has a high standard deviation of 9.01, compared to its mean of 17.91 — suggesting wide variability in usage.\n",
    "\n",
    "# 📊 Symmetry & Distribution:\n",
    "# - The visible gaps between the 25th and 75th percentiles in most features indicate asymmetric distributions.\n",
    "# - 'Actual Bill OMR' appears skewed — its max is 23.96 while 75% of the data is below 9.10, suggesting a few extreme high-bill records."
   ]
  },
  {
   "cell_type": "code",
   "execution_count": 199,
   "id": "2023f14c",
   "metadata": {},
   "outputs": [
    {
     "name": "stdout",
     "output_type": "stream",
     "text": [
      "Number of outliers detected: 4999\n",
      "Outlier rows:\n",
      "        family member  Season  weekly  Monthly Consumption  by cycle  \\\n",
      "81                 2     0.0    1.03                 3.50     12.22   \n",
      "85                 9     0.0   10.44                45.53    137.16   \n",
      "97                 9     0.0   10.12                45.21    126.33   \n",
      "112                9     0.0    9.73                43.16    110.73   \n",
      "131                9     0.0    7.91                34.68    115.05   \n",
      "...              ...     ...     ...                  ...       ...   \n",
      "99769              2     0.0    0.98                 3.59     12.09   \n",
      "99785              9     0.0    9.77                34.42    110.32   \n",
      "99839              9     0.0    9.26                39.25    118.29   \n",
      "99966              9     0.0    7.52                33.09    126.22   \n",
      "99972              9     0.0    8.12                41.25    121.62   \n",
      "\n",
      "       Actual Bill OMR seasons  Outlier  \n",
      "81               0.700  Winter       -1  \n",
      "85              23.350  Summer       -1  \n",
      "97              23.139  Summer       -1  \n",
      "112             21.786  Summer       -1  \n",
      "131             16.189  Summer       -1  \n",
      "...                ...     ...      ...  \n",
      "99769            0.718  Winter       -1  \n",
      "99785           16.017  Summer       -1  \n",
      "99839           19.205  Summer       -1  \n",
      "99966           15.139  Summer       -1  \n",
      "99972           20.525  Summer       -1  \n",
      "\n",
      "[4999 rows x 8 columns]\n",
      "Cleaned data shape: (95000, 7)\n"
     ]
    }
   ],
   "source": [
    "from sklearn.ensemble import IsolationForest\n",
    "\n",
    "# Select only numeric columns\n",
    "numeric_cols = dataTrain.select_dtypes(include=['number'])\n",
    "\n",
    "# Initialize the Isolation Forest model\n",
    "iso_forest = IsolationForest(contamination=0.05, random_state=42)\n",
    "\n",
    "# Fit and predict outliers (-1 = outliers, 1 = inliers)\n",
    "outlier_predictions = iso_forest.fit_predict(numeric_cols)\n",
    "\n",
    "# Add the predictions to the dataframe\n",
    "dataTrain['Outlier'] = outlier_predictions\n",
    "\n",
    "# Find outlier rows\n",
    "outliers = dataTrain[dataTrain['Outlier'] == -1]\n",
    "\n",
    "print(\"Number of outliers detected:\", len(outliers))\n",
    "print(\"Outlier rows:\\n\", outliers)\n",
    "\n",
    "# Remove outliers from the dataset\n",
    "dataTrain_clean = dataTrain[dataTrain['Outlier'] != -1].drop('Outlier', axis=1)\n",
    "\n",
    "print(\"Cleaned data shape:\", dataTrain_clean.shape)"
   ]
  },
  {
   "cell_type": "code",
   "execution_count": 200,
   "id": "7c937de9",
   "metadata": {},
   "outputs": [
    {
     "name": "stdout",
     "output_type": "stream",
     "text": [
      "Before Removing Outliers:\n",
      "       family member   Season        weekly  Monthly Consumption  \\\n",
      "count   99999.000000  99999.0  99999.000000         99999.000000   \n",
      "mean        5.502275      0.0      4.181349            17.918232   \n",
      "std         2.270426      0.0      2.104152             9.019419   \n",
      "min         2.000000      0.0      0.810000             3.450000   \n",
      "25%         4.000000      0.0      2.470000            10.630000   \n",
      "50%         6.000000      0.0      3.900000            16.690000   \n",
      "75%         7.000000      0.0      5.600000            23.940000   \n",
      "max         9.000000      0.0     10.840000            46.460000   \n",
      "\n",
      "           by cycle  Actual Bill OMR       Outlier  \n",
      "count  99999.000000     99999.000000  99999.000000  \n",
      "mean      53.791900         6.474724      0.900019  \n",
      "std       27.106391         4.738247      0.435853  \n",
      "min       10.370000         0.690000     -1.000000  \n",
      "25%       31.830000         2.752000      1.000000  \n",
      "50%       50.140000         5.176000      1.000000  \n",
      "75%       71.870000         9.100000      1.000000  \n",
      "max      139.360000        23.964000      1.000000  \n",
      "\n",
      "After Removing Outliers:\n",
      "       family member   Season        weekly  Monthly Consumption  \\\n",
      "count   95000.000000  95000.0  95000.000000         95000.000000   \n",
      "mean        5.394558      0.0      4.008725            17.146219   \n",
      "std         2.202589      0.0      1.887976             8.020827   \n",
      "min         2.000000      0.0      0.810000             3.690000   \n",
      "25%         3.000000      0.0      2.450000            10.530000   \n",
      "50%         5.000000      0.0      3.800000            16.300000   \n",
      "75%         7.000000      0.0      5.360000            22.940000   \n",
      "max         9.000000      0.0      9.850000            39.270000   \n",
      "\n",
      "           by cycle  Actual Bill OMR  \n",
      "count  95000.000000      95000.00000  \n",
      "mean      51.475713          5.99244  \n",
      "std       24.122050          4.04669  \n",
      "min       10.380000          0.73800  \n",
      "25%       31.540000          2.71200  \n",
      "50%       48.910000          5.02000  \n",
      "75%       68.872500          8.44000  \n",
      "max      113.790000         19.21800  \n"
     ]
    }
   ],
   "source": [
    "print(\"Before Removing Outliers:\")\n",
    "print(dataTrain.describe())\n",
    "\n",
    "print(\"\\nAfter Removing Outliers:\")\n",
    "print(dataTrain_clean.describe())"
   ]
  },
  {
   "cell_type": "code",
   "execution_count": 201,
   "id": "757096b1",
   "metadata": {},
   "outputs": [
    {
     "data": {
      "text/plain": [
       "(99999, 8)"
      ]
     },
     "execution_count": 201,
     "metadata": {},
     "output_type": "execute_result"
    }
   ],
   "source": [
    "dataTrain.shape"
   ]
  },
  {
   "cell_type": "code",
   "execution_count": 202,
   "id": "139317a9",
   "metadata": {},
   "outputs": [
    {
     "data": {
      "text/html": [
       "<div>\n",
       "<style scoped>\n",
       "    .dataframe tbody tr th:only-of-type {\n",
       "        vertical-align: middle;\n",
       "    }\n",
       "\n",
       "    .dataframe tbody tr th {\n",
       "        vertical-align: top;\n",
       "    }\n",
       "\n",
       "    .dataframe thead th {\n",
       "        text-align: right;\n",
       "    }\n",
       "</style>\n",
       "<table border=\"1\" class=\"dataframe\">\n",
       "  <thead>\n",
       "    <tr style=\"text-align: right;\">\n",
       "      <th></th>\n",
       "      <th>seasons</th>\n",
       "    </tr>\n",
       "  </thead>\n",
       "  <tbody>\n",
       "    <tr>\n",
       "      <th>count</th>\n",
       "      <td>99999</td>\n",
       "    </tr>\n",
       "    <tr>\n",
       "      <th>unique</th>\n",
       "      <td>4</td>\n",
       "    </tr>\n",
       "    <tr>\n",
       "      <th>top</th>\n",
       "      <td>Autumn</td>\n",
       "    </tr>\n",
       "    <tr>\n",
       "      <th>freq</th>\n",
       "      <td>25232</td>\n",
       "    </tr>\n",
       "  </tbody>\n",
       "</table>\n",
       "</div>"
      ],
      "text/plain": [
       "       seasons\n",
       "count    99999\n",
       "unique       4\n",
       "top     Autumn\n",
       "freq     25232"
      ]
     },
     "execution_count": 202,
     "metadata": {},
     "output_type": "execute_result"
    }
   ],
   "source": [
    "#This is a check for categorical data\n",
    "dataTrain.describe(include=['object'])"
   ]
  },
  {
   "cell_type": "code",
   "execution_count": 203,
   "id": "623364e6",
   "metadata": {},
   "outputs": [],
   "source": [
    "#DATA TRANSFORMATION\n",
    "#DATA PREPARATION\n",
    "#BY USING ENCODING CONVERTING THE CATEGORICAL DATA TO NUMERICAL DATA\n",
    "from sklearn.preprocessing import LabelEncoder\n",
    "\n",
    "labelencoder = LabelEncoder()\n",
    "dataTrain.seasons = labelencoder.fit_transform(dataTrain.seasons)"
   ]
  },
  {
   "cell_type": "code",
   "execution_count": 204,
   "id": "8df543e6",
   "metadata": {},
   "outputs": [
    {
     "name": "stdout",
     "output_type": "stream",
     "text": [
      "Original 'Season' column dropped after encoding.\n"
     ]
    }
   ],
   "source": [
    "# After encoding 'Season'\n",
    "dataTrain.drop('Season', axis=1, inplace=True)\n",
    "print(\"Original 'Season' column dropped after encoding.\")"
   ]
  },
  {
   "cell_type": "code",
   "execution_count": 205,
   "id": "2b64dfb2",
   "metadata": {},
   "outputs": [
    {
     "data": {
      "text/html": [
       "<div>\n",
       "<style scoped>\n",
       "    .dataframe tbody tr th:only-of-type {\n",
       "        vertical-align: middle;\n",
       "    }\n",
       "\n",
       "    .dataframe tbody tr th {\n",
       "        vertical-align: top;\n",
       "    }\n",
       "\n",
       "    .dataframe thead th {\n",
       "        text-align: right;\n",
       "    }\n",
       "</style>\n",
       "<table border=\"1\" class=\"dataframe\">\n",
       "  <thead>\n",
       "    <tr style=\"text-align: right;\">\n",
       "      <th></th>\n",
       "      <th>family member</th>\n",
       "      <th>weekly</th>\n",
       "      <th>Monthly Consumption</th>\n",
       "      <th>by cycle</th>\n",
       "      <th>Actual Bill OMR</th>\n",
       "      <th>seasons</th>\n",
       "      <th>Outlier</th>\n",
       "    </tr>\n",
       "  </thead>\n",
       "  <tbody>\n",
       "    <tr>\n",
       "      <th>0</th>\n",
       "      <td>8</td>\n",
       "      <td>7.11</td>\n",
       "      <td>33.14</td>\n",
       "      <td>83.61</td>\n",
       "      <td>15.172</td>\n",
       "      <td>1</td>\n",
       "      <td>1</td>\n",
       "    </tr>\n",
       "    <tr>\n",
       "      <th>1</th>\n",
       "      <td>2</td>\n",
       "      <td>2.07</td>\n",
       "      <td>8.05</td>\n",
       "      <td>25.89</td>\n",
       "      <td>1.915</td>\n",
       "      <td>2</td>\n",
       "      <td>1</td>\n",
       "    </tr>\n",
       "    <tr>\n",
       "      <th>2</th>\n",
       "      <td>4</td>\n",
       "      <td>4.70</td>\n",
       "      <td>15.89</td>\n",
       "      <td>55.92</td>\n",
       "      <td>4.856</td>\n",
       "      <td>2</td>\n",
       "      <td>1</td>\n",
       "    </tr>\n",
       "    <tr>\n",
       "      <th>3</th>\n",
       "      <td>8</td>\n",
       "      <td>4.13</td>\n",
       "      <td>14.74</td>\n",
       "      <td>44.70</td>\n",
       "      <td>4.396</td>\n",
       "      <td>3</td>\n",
       "      <td>1</td>\n",
       "    </tr>\n",
       "    <tr>\n",
       "      <th>4</th>\n",
       "      <td>9</td>\n",
       "      <td>8.63</td>\n",
       "      <td>30.77</td>\n",
       "      <td>102.08</td>\n",
       "      <td>13.608</td>\n",
       "      <td>1</td>\n",
       "      <td>1</td>\n",
       "    </tr>\n",
       "    <tr>\n",
       "      <th>5</th>\n",
       "      <td>8</td>\n",
       "      <td>5.29</td>\n",
       "      <td>22.91</td>\n",
       "      <td>72.04</td>\n",
       "      <td>8.421</td>\n",
       "      <td>0</td>\n",
       "      <td>1</td>\n",
       "    </tr>\n",
       "    <tr>\n",
       "      <th>6</th>\n",
       "      <td>6</td>\n",
       "      <td>2.56</td>\n",
       "      <td>11.23</td>\n",
       "      <td>38.85</td>\n",
       "      <td>2.992</td>\n",
       "      <td>3</td>\n",
       "      <td>1</td>\n",
       "    </tr>\n",
       "    <tr>\n",
       "      <th>7</th>\n",
       "      <td>8</td>\n",
       "      <td>3.96</td>\n",
       "      <td>16.25</td>\n",
       "      <td>53.99</td>\n",
       "      <td>5.000</td>\n",
       "      <td>3</td>\n",
       "      <td>1</td>\n",
       "    </tr>\n",
       "    <tr>\n",
       "      <th>8</th>\n",
       "      <td>6</td>\n",
       "      <td>5.91</td>\n",
       "      <td>25.85</td>\n",
       "      <td>68.53</td>\n",
       "      <td>10.361</td>\n",
       "      <td>1</td>\n",
       "      <td>1</td>\n",
       "    </tr>\n",
       "    <tr>\n",
       "      <th>9</th>\n",
       "      <td>4</td>\n",
       "      <td>3.60</td>\n",
       "      <td>16.76</td>\n",
       "      <td>43.32</td>\n",
       "      <td>5.204</td>\n",
       "      <td>1</td>\n",
       "      <td>1</td>\n",
       "    </tr>\n",
       "  </tbody>\n",
       "</table>\n",
       "</div>"
      ],
      "text/plain": [
       "   family member  weekly  Monthly Consumption  by cycle  Actual Bill OMR  \\\n",
       "0              8    7.11                33.14     83.61           15.172   \n",
       "1              2    2.07                 8.05     25.89            1.915   \n",
       "2              4    4.70                15.89     55.92            4.856   \n",
       "3              8    4.13                14.74     44.70            4.396   \n",
       "4              9    8.63                30.77    102.08           13.608   \n",
       "5              8    5.29                22.91     72.04            8.421   \n",
       "6              6    2.56                11.23     38.85            2.992   \n",
       "7              8    3.96                16.25     53.99            5.000   \n",
       "8              6    5.91                25.85     68.53           10.361   \n",
       "9              4    3.60                16.76     43.32            5.204   \n",
       "\n",
       "   seasons  Outlier  \n",
       "0        1        1  \n",
       "1        2        1  \n",
       "2        2        1  \n",
       "3        3        1  \n",
       "4        1        1  \n",
       "5        0        1  \n",
       "6        3        1  \n",
       "7        3        1  \n",
       "8        1        1  \n",
       "9        1        1  "
      ]
     },
     "execution_count": 205,
     "metadata": {},
     "output_type": "execute_result"
    }
   ],
   "source": [
    "#Checking on the remaining features and if label encoding is applied to all categorical features (Training set).\n",
    "dataTrain.head(10)"
   ]
  },
  {
   "cell_type": "code",
   "execution_count": 206,
   "id": "3d01bcc6",
   "metadata": {},
   "outputs": [],
   "source": [
    "# Save unscaled actual bill for later use\n",
    "actual_bill_unscaled = dataTrain['Actual Bill OMR'].copy()"
   ]
  },
  {
   "cell_type": "code",
   "execution_count": 207,
   "id": "06115a67",
   "metadata": {},
   "outputs": [],
   "source": [
    "original_price_mean = dataTrain['Actual Bill OMR'].mean()\n",
    "original_price_std = dataTrain['Actual Bill OMR'].std()"
   ]
  },
  {
   "cell_type": "code",
   "execution_count": 208,
   "id": "e8dda53b",
   "metadata": {},
   "outputs": [],
   "source": [
    "original_data = dataTrain.copy()"
   ]
  },
  {
   "cell_type": "code",
   "execution_count": 209,
   "id": "6b34e04a",
   "metadata": {},
   "outputs": [],
   "source": [
    "#values before data transformation\n",
    "x_train_actual = dataTrain.iloc[:, [0,1,2,3,5]]  # Features\n",
    "y_train_actual = dataTrain.iloc[:, 4]    # Target: Actual Bill OMR"
   ]
  },
  {
   "cell_type": "code",
   "execution_count": 210,
   "id": "d49f0c1c",
   "metadata": {},
   "outputs": [],
   "source": [
    "from sklearn.preprocessing import StandardScaler\n",
    "from sklearn.model_selection import train_test_split\n",
    "\n",
    "# Define the feature columns (excluding the target 'Actual Bill OMR')\n",
    "features = ['family member', 'weekly', 'Monthly Consumption', 'by cycle', 'seasons']\n",
    "\n",
    "# 1. Separate features and target\n",
    "X = dataTrain[features]\n",
    "y = dataTrain['Actual Bill OMR']\n",
    "\n",
    "# 2. Split the data\n",
    "X_train, X_test, y_train, y_test = train_test_split(X, y, test_size=0.2, random_state=42)\n",
    "\n",
    "# 3. Apply Z-score scaling to only the features\n",
    "scaler = StandardScaler()\n",
    "X_train_scaled = scaler.fit_transform(X_train)  # fit only on training\n",
    "X_test_scaled = scaler.transform(X_test)        # transform test with same scale"
   ]
  },
  {
   "cell_type": "code",
   "execution_count": 211,
   "id": "658d857b",
   "metadata": {},
   "outputs": [],
   "source": [
    "import pickle\n",
    "\n",
    "with open(\"scaler.pkl\", \"wb\") as f:\n",
    "    pickle.dump(scaler, f)"
   ]
  },
  {
   "cell_type": "code",
   "execution_count": 212,
   "id": "07c1dc66",
   "metadata": {},
   "outputs": [
    {
     "data": {
      "text/html": [
       "<div>\n",
       "<style scoped>\n",
       "    .dataframe tbody tr th:only-of-type {\n",
       "        vertical-align: middle;\n",
       "    }\n",
       "\n",
       "    .dataframe tbody tr th {\n",
       "        vertical-align: top;\n",
       "    }\n",
       "\n",
       "    .dataframe thead th {\n",
       "        text-align: right;\n",
       "    }\n",
       "</style>\n",
       "<table border=\"1\" class=\"dataframe\">\n",
       "  <thead>\n",
       "    <tr style=\"text-align: right;\">\n",
       "      <th></th>\n",
       "      <th>family member</th>\n",
       "      <th>weekly</th>\n",
       "      <th>Monthly Consumption</th>\n",
       "      <th>by cycle</th>\n",
       "      <th>Actual Bill OMR</th>\n",
       "      <th>seasons</th>\n",
       "      <th>Outlier</th>\n",
       "    </tr>\n",
       "  </thead>\n",
       "  <tbody>\n",
       "    <tr>\n",
       "      <th>0</th>\n",
       "      <td>8</td>\n",
       "      <td>7.11</td>\n",
       "      <td>33.14</td>\n",
       "      <td>83.61</td>\n",
       "      <td>15.172</td>\n",
       "      <td>1</td>\n",
       "      <td>1</td>\n",
       "    </tr>\n",
       "    <tr>\n",
       "      <th>1</th>\n",
       "      <td>2</td>\n",
       "      <td>2.07</td>\n",
       "      <td>8.05</td>\n",
       "      <td>25.89</td>\n",
       "      <td>1.915</td>\n",
       "      <td>2</td>\n",
       "      <td>1</td>\n",
       "    </tr>\n",
       "    <tr>\n",
       "      <th>2</th>\n",
       "      <td>4</td>\n",
       "      <td>4.70</td>\n",
       "      <td>15.89</td>\n",
       "      <td>55.92</td>\n",
       "      <td>4.856</td>\n",
       "      <td>2</td>\n",
       "      <td>1</td>\n",
       "    </tr>\n",
       "    <tr>\n",
       "      <th>3</th>\n",
       "      <td>8</td>\n",
       "      <td>4.13</td>\n",
       "      <td>14.74</td>\n",
       "      <td>44.70</td>\n",
       "      <td>4.396</td>\n",
       "      <td>3</td>\n",
       "      <td>1</td>\n",
       "    </tr>\n",
       "    <tr>\n",
       "      <th>4</th>\n",
       "      <td>9</td>\n",
       "      <td>8.63</td>\n",
       "      <td>30.77</td>\n",
       "      <td>102.08</td>\n",
       "      <td>13.608</td>\n",
       "      <td>1</td>\n",
       "      <td>1</td>\n",
       "    </tr>\n",
       "    <tr>\n",
       "      <th>...</th>\n",
       "      <td>...</td>\n",
       "      <td>...</td>\n",
       "      <td>...</td>\n",
       "      <td>...</td>\n",
       "      <td>...</td>\n",
       "      <td>...</td>\n",
       "      <td>...</td>\n",
       "    </tr>\n",
       "    <tr>\n",
       "      <th>99994</th>\n",
       "      <td>2</td>\n",
       "      <td>1.03</td>\n",
       "      <td>3.81</td>\n",
       "      <td>13.64</td>\n",
       "      <td>0.762</td>\n",
       "      <td>3</td>\n",
       "      <td>1</td>\n",
       "    </tr>\n",
       "    <tr>\n",
       "      <th>99995</th>\n",
       "      <td>5</td>\n",
       "      <td>5.89</td>\n",
       "      <td>21.27</td>\n",
       "      <td>67.14</td>\n",
       "      <td>7.338</td>\n",
       "      <td>2</td>\n",
       "      <td>1</td>\n",
       "    </tr>\n",
       "    <tr>\n",
       "      <th>99996</th>\n",
       "      <td>5</td>\n",
       "      <td>4.28</td>\n",
       "      <td>18.85</td>\n",
       "      <td>52.84</td>\n",
       "      <td>6.040</td>\n",
       "      <td>2</td>\n",
       "      <td>1</td>\n",
       "    </tr>\n",
       "    <tr>\n",
       "      <th>99997</th>\n",
       "      <td>3</td>\n",
       "      <td>1.88</td>\n",
       "      <td>6.42</td>\n",
       "      <td>19.12</td>\n",
       "      <td>1.426</td>\n",
       "      <td>3</td>\n",
       "      <td>1</td>\n",
       "    </tr>\n",
       "    <tr>\n",
       "      <th>99998</th>\n",
       "      <td>8</td>\n",
       "      <td>7.02</td>\n",
       "      <td>29.59</td>\n",
       "      <td>73.02</td>\n",
       "      <td>12.829</td>\n",
       "      <td>1</td>\n",
       "      <td>1</td>\n",
       "    </tr>\n",
       "  </tbody>\n",
       "</table>\n",
       "<p>99999 rows × 7 columns</p>\n",
       "</div>"
      ],
      "text/plain": [
       "       family member  weekly  Monthly Consumption  by cycle  Actual Bill OMR  \\\n",
       "0                  8    7.11                33.14     83.61           15.172   \n",
       "1                  2    2.07                 8.05     25.89            1.915   \n",
       "2                  4    4.70                15.89     55.92            4.856   \n",
       "3                  8    4.13                14.74     44.70            4.396   \n",
       "4                  9    8.63                30.77    102.08           13.608   \n",
       "...              ...     ...                  ...       ...              ...   \n",
       "99994              2    1.03                 3.81     13.64            0.762   \n",
       "99995              5    5.89                21.27     67.14            7.338   \n",
       "99996              5    4.28                18.85     52.84            6.040   \n",
       "99997              3    1.88                 6.42     19.12            1.426   \n",
       "99998              8    7.02                29.59     73.02           12.829   \n",
       "\n",
       "       seasons  Outlier  \n",
       "0            1        1  \n",
       "1            2        1  \n",
       "2            2        1  \n",
       "3            3        1  \n",
       "4            1        1  \n",
       "...        ...      ...  \n",
       "99994        3        1  \n",
       "99995        2        1  \n",
       "99996        2        1  \n",
       "99997        3        1  \n",
       "99998        1        1  \n",
       "\n",
       "[99999 rows x 7 columns]"
      ]
     },
     "execution_count": 212,
     "metadata": {},
     "output_type": "execute_result"
    }
   ],
   "source": [
    "dataTrain"
   ]
  },
  {
   "cell_type": "code",
   "execution_count": 213,
   "id": "84b7b7ee",
   "metadata": {},
   "outputs": [],
   "source": [
    "#In case the value is outside this range, may indicate potential outliers\n",
    "#resulting in impacting model predictions.\n",
    "#Since outliers had been dealt earlier, so just clipping the value\n",
    "\n",
    "#it was observed that clipping the values to this range affects the performance (however postitively)\n",
    "#dataTrain[features] = dataTrain[features].clip(-1, 1)\n",
    "#dataTrain = dataTrain.clip(-1, 1)"
   ]
  },
  {
   "cell_type": "code",
   "execution_count": 214,
   "id": "4b18ca9b",
   "metadata": {},
   "outputs": [],
   "source": [
    "#values before data transformation\n",
    "x_train_actual = dataTrain.iloc[:, [0,1,2,3,5]]  # Features\n",
    "y_train_actual = dataTrain.iloc[:, 4]    # Target: Actual Bill OMR"
   ]
  },
  {
   "cell_type": "code",
   "execution_count": 215,
   "id": "46a29f62",
   "metadata": {},
   "outputs": [
    {
     "data": {
      "text/html": [
       "<div>\n",
       "<style scoped>\n",
       "    .dataframe tbody tr th:only-of-type {\n",
       "        vertical-align: middle;\n",
       "    }\n",
       "\n",
       "    .dataframe tbody tr th {\n",
       "        vertical-align: top;\n",
       "    }\n",
       "\n",
       "    .dataframe thead th {\n",
       "        text-align: right;\n",
       "    }\n",
       "</style>\n",
       "<table border=\"1\" class=\"dataframe\">\n",
       "  <thead>\n",
       "    <tr style=\"text-align: right;\">\n",
       "      <th></th>\n",
       "      <th>family member</th>\n",
       "      <th>weekly</th>\n",
       "      <th>Monthly Consumption</th>\n",
       "      <th>by cycle</th>\n",
       "      <th>seasons</th>\n",
       "    </tr>\n",
       "  </thead>\n",
       "  <tbody>\n",
       "    <tr>\n",
       "      <th>0</th>\n",
       "      <td>8</td>\n",
       "      <td>7.11</td>\n",
       "      <td>33.14</td>\n",
       "      <td>83.61</td>\n",
       "      <td>1</td>\n",
       "    </tr>\n",
       "    <tr>\n",
       "      <th>1</th>\n",
       "      <td>2</td>\n",
       "      <td>2.07</td>\n",
       "      <td>8.05</td>\n",
       "      <td>25.89</td>\n",
       "      <td>2</td>\n",
       "    </tr>\n",
       "    <tr>\n",
       "      <th>2</th>\n",
       "      <td>4</td>\n",
       "      <td>4.70</td>\n",
       "      <td>15.89</td>\n",
       "      <td>55.92</td>\n",
       "      <td>2</td>\n",
       "    </tr>\n",
       "    <tr>\n",
       "      <th>3</th>\n",
       "      <td>8</td>\n",
       "      <td>4.13</td>\n",
       "      <td>14.74</td>\n",
       "      <td>44.70</td>\n",
       "      <td>3</td>\n",
       "    </tr>\n",
       "    <tr>\n",
       "      <th>4</th>\n",
       "      <td>9</td>\n",
       "      <td>8.63</td>\n",
       "      <td>30.77</td>\n",
       "      <td>102.08</td>\n",
       "      <td>1</td>\n",
       "    </tr>\n",
       "  </tbody>\n",
       "</table>\n",
       "</div>"
      ],
      "text/plain": [
       "   family member  weekly  Monthly Consumption  by cycle  seasons\n",
       "0              8    7.11                33.14     83.61        1\n",
       "1              2    2.07                 8.05     25.89        2\n",
       "2              4    4.70                15.89     55.92        2\n",
       "3              8    4.13                14.74     44.70        3\n",
       "4              9    8.63                30.77    102.08        1"
      ]
     },
     "execution_count": 215,
     "metadata": {},
     "output_type": "execute_result"
    }
   ],
   "source": [
    "x_train_actual.head()"
   ]
  },
  {
   "cell_type": "code",
   "execution_count": 216,
   "id": "77067d5a",
   "metadata": {},
   "outputs": [
    {
     "data": {
      "text/plain": [
       "0    15.172\n",
       "1     1.915\n",
       "2     4.856\n",
       "3     4.396\n",
       "4    13.608\n",
       "Name: Actual Bill OMR, dtype: float64"
      ]
     },
     "execution_count": 216,
     "metadata": {},
     "output_type": "execute_result"
    }
   ],
   "source": [
    "y_train_actual.head()"
   ]
  },
  {
   "cell_type": "code",
   "execution_count": 217,
   "id": "3568c76e",
   "metadata": {},
   "outputs": [],
   "source": [
    "#FIT MODEL"
   ]
  },
  {
   "cell_type": "code",
   "execution_count": 218,
   "id": "d0cca70a",
   "metadata": {},
   "outputs": [],
   "source": [
    "# Repeating split with correct 5 features\n",
    "features = ['family member', 'weekly', 'Monthly Consumption', 'by cycle', 'seasons']\n",
    "target = 'Actual Bill OMR'\n",
    "\n",
    "X = dataTrain[features]\n",
    "y = dataTrain[target]\n",
    "\n",
    "X_train, X_test, y_train, y_test = train_test_split(X, y, test_size=0.2, random_state=42)"
   ]
  },
  {
   "cell_type": "code",
   "execution_count": 219,
   "id": "d4d94cc8",
   "metadata": {},
   "outputs": [
    {
     "name": "stdout",
     "output_type": "stream",
     "text": [
      "Requirement already satisfied: xgboost in c:\\users\\user\\anaconda3\\lib\\site-packages (2.1.4)\n",
      "Requirement already satisfied: scipy in c:\\users\\user\\anaconda3\\lib\\site-packages (from xgboost) (1.9.1)\n",
      "Requirement already satisfied: numpy in c:\\users\\user\\anaconda3\\lib\\site-packages (from xgboost) (1.21.5)\n"
     ]
    }
   ],
   "source": [
    "!pip install xgboost"
   ]
  },
  {
   "cell_type": "code",
   "execution_count": 220,
   "id": "c30d1251",
   "metadata": {},
   "outputs": [],
   "source": [
    "from sklearn.tree import DecisionTreeRegressor\n",
    "from xgboost import XGBRegressor"
   ]
  },
  {
   "cell_type": "code",
   "execution_count": 221,
   "id": "55c208fb",
   "metadata": {},
   "outputs": [
    {
     "data": {
      "text/plain": [
       "LinearRegression()"
      ]
     },
     "execution_count": 221,
     "metadata": {},
     "output_type": "execute_result"
    }
   ],
   "source": [
    "# MODELS\n",
    "# MULTIPLE LINEAR REGRESSION MODEL\n",
    "from sklearn.linear_model import LinearRegression\n",
    "\n",
    "model_mlr = LinearRegression()\n",
    "model_mlr.fit(X_train_scaled, y_train)"
   ]
  },
  {
   "cell_type": "code",
   "execution_count": 222,
   "id": "e226a7a4",
   "metadata": {},
   "outputs": [],
   "source": [
    "# Making price prediction using the testing set (Fit to MLR)\n",
    "y_pred_MLR = model_mlr.predict(X_test_scaled)  # Use scaled version"
   ]
  },
  {
   "cell_type": "code",
   "execution_count": 223,
   "id": "9806bcba",
   "metadata": {},
   "outputs": [
    {
     "name": "stdout",
     "output_type": "stream",
     "text": [
      "The mean square error for Multiple Linear Regression:  0.42794134733759837\n"
     ]
    }
   ],
   "source": [
    "from sklearn.metrics import mean_squared_error\n",
    "\n",
    "# Calculating the Mean Square Error for MLR model\n",
    "mse1 = mean_squared_error(y_test, y_pred_MLR)\n",
    "print('The mean square error for Multiple Linear Regression: ', mse1)"
   ]
  },
  {
   "cell_type": "code",
   "execution_count": 224,
   "id": "82f92362",
   "metadata": {},
   "outputs": [
    {
     "name": "stdout",
     "output_type": "stream",
     "text": [
      "The mean absolute error for Multiple Linear Regression:  0.5310772347086213\n"
     ]
    }
   ],
   "source": [
    "from sklearn.metrics import mean_absolute_error\n",
    "\n",
    "# Calculating the Mean Absolute Error for MLR model\n",
    "mae1 = mean_absolute_error(y_test, y_pred_MLR)\n",
    "print('The mean absolute error for Multiple Linear Regression: ', mae1)"
   ]
  },
  {
   "cell_type": "code",
   "execution_count": 225,
   "id": "8b926d4c",
   "metadata": {},
   "outputs": [
    {
     "data": {
      "text/plain": [
       "RandomForestRegressor(random_state=42)"
      ]
     },
     "execution_count": 225,
     "metadata": {},
     "output_type": "execute_result"
    }
   ],
   "source": [
    "# RANDOM FOREST REGRESSOR\n",
    "from sklearn.ensemble import RandomForestRegressor\n",
    "\n",
    "model_rf = RandomForestRegressor(random_state=42)\n",
    "model_rf.fit(X_train_scaled, y_train)"
   ]
  },
  {
   "cell_type": "code",
   "execution_count": 226,
   "id": "abb42800",
   "metadata": {},
   "outputs": [],
   "source": [
    "# Prediction of prices using the testing data\n",
    "y_pred_RF = model_rf.predict(X_test_scaled)"
   ]
  },
  {
   "cell_type": "code",
   "execution_count": 227,
   "id": "2ad0af1a",
   "metadata": {},
   "outputs": [
    {
     "name": "stdout",
     "output_type": "stream",
     "text": [
      "The mean square error of price and predicted value is:  1.8016092999982242e-07\n"
     ]
    }
   ],
   "source": [
    "# Calculating the Mean Square Error for Random Forest Model\n",
    "mse2 = mean_squared_error(y_test, y_pred_RF)\n",
    "print('The mean square error of price and predicted value is: ', mse2)"
   ]
  },
  {
   "cell_type": "code",
   "execution_count": 228,
   "id": "9e9521e6",
   "metadata": {},
   "outputs": [
    {
     "name": "stdout",
     "output_type": "stream",
     "text": [
      "The mean absolute error of price and predicted value is:  4.6675000006109726e-05\n"
     ]
    }
   ],
   "source": [
    "# Calculating the Mean Absolute Error for Random Forest Model\n",
    "mae2 = mean_absolute_error(y_test, y_pred_RF)\n",
    "print('The mean absolute error of price and predicted value is: ', mae2)"
   ]
  },
  {
   "cell_type": "code",
   "execution_count": 229,
   "id": "ea6214f4",
   "metadata": {},
   "outputs": [
    {
     "data": {
      "text/plain": [
       "DecisionTreeRegressor(random_state=42)"
      ]
     },
     "execution_count": 229,
     "metadata": {},
     "output_type": "execute_result"
    }
   ],
   "source": [
    "# DECISION TREE REGRESSOR\n",
    "from sklearn.tree import DecisionTreeRegressor\n",
    "\n",
    "model_dt = DecisionTreeRegressor(random_state=42)\n",
    "model_dt.fit(X_train_scaled, y_train)"
   ]
  },
  {
   "cell_type": "code",
   "execution_count": 230,
   "id": "fde2c83f",
   "metadata": {},
   "outputs": [],
   "source": [
    "# Prediction\n",
    "y_pred_DT = model_dt.predict(X_test_scaled)"
   ]
  },
  {
   "cell_type": "code",
   "execution_count": 231,
   "id": "b7c1389b",
   "metadata": {},
   "outputs": [
    {
     "name": "stdout",
     "output_type": "stream",
     "text": [
      "The mean absolute error for Decision Tree:  3.905000000101333e-05\n",
      "The mean square error for Decision Tree:  3.739499999999804e-07\n"
     ]
    }
   ],
   "source": [
    "# Calculating the Mean Absolute Error for Decision Tree Model\n",
    "mae3 = mean_absolute_error(y_test, y_pred_DT)\n",
    "mse3 = mean_squared_error(y_test, y_pred_DT)\n",
    "\n",
    "print('The mean absolute error for Decision Tree: ', mae3)\n",
    "print('The mean square error for Decision Tree: ', mse3)"
   ]
  },
  {
   "cell_type": "code",
   "execution_count": 232,
   "id": "32b16dec",
   "metadata": {},
   "outputs": [
    {
     "data": {
      "text/plain": [
       "XGBRegressor(base_score=None, booster=None, callbacks=None,\n",
       "             colsample_bylevel=None, colsample_bynode=None,\n",
       "             colsample_bytree=None, device=None, early_stopping_rounds=None,\n",
       "             enable_categorical=False, eval_metric=None, feature_types=None,\n",
       "             gamma=None, grow_policy=None, importance_type=None,\n",
       "             interaction_constraints=None, learning_rate=None, max_bin=None,\n",
       "             max_cat_threshold=None, max_cat_to_onehot=None,\n",
       "             max_delta_step=None, max_depth=None, max_leaves=None,\n",
       "             min_child_weight=None, missing=nan, monotone_constraints=None,\n",
       "             multi_strategy=None, n_estimators=None, n_jobs=None,\n",
       "             num_parallel_tree=None, random_state=42, ...)"
      ]
     },
     "execution_count": 232,
     "metadata": {},
     "output_type": "execute_result"
    }
   ],
   "source": [
    "from xgboost import XGBRegressor\n",
    "\n",
    "# XGBOOST REGRESSOR\n",
    "model_xgb = XGBRegressor(random_state=42, verbosity=0)\n",
    "model_xgb.fit(X_train_scaled, y_train)"
   ]
  },
  {
   "cell_type": "code",
   "execution_count": 233,
   "id": "ee855783",
   "metadata": {},
   "outputs": [],
   "source": [
    "# Prediction\n",
    "y_pred_XGB = model_xgb.predict(X_test_scaled)"
   ]
  },
  {
   "cell_type": "code",
   "execution_count": 234,
   "id": "bacfa974",
   "metadata": {},
   "outputs": [
    {
     "name": "stdout",
     "output_type": "stream",
     "text": [
      "The mean absolute error for XGBoost:  0.023725438718557357\n",
      "The mean square error for XGBoost:  0.003731297783150464\n"
     ]
    }
   ],
   "source": [
    "# Calculating the Mean Absolute Error for XGBoost Regressor Model\n",
    "mae4 = mean_absolute_error(y_test, y_pred_XGB)\n",
    "mse4 = mean_squared_error(y_test, y_pred_XGB)\n",
    "\n",
    "print('The mean absolute error for XGBoost: ', mae4)\n",
    "print('The mean square error for XGBoost: ', mse4)"
   ]
  },
  {
   "cell_type": "code",
   "execution_count": 235,
   "id": "87e415a7",
   "metadata": {},
   "outputs": [],
   "source": [
    "scores = [('MLR', mae1),\n",
    "          ('Random Forest', mae2),\n",
    "          ('Decision Tree', mae3),\n",
    "          ('XGBoost', mae4)\n",
    "         ]"
   ]
  },
  {
   "cell_type": "code",
   "execution_count": 236,
   "id": "d36830c8",
   "metadata": {},
   "outputs": [
    {
     "data": {
      "text/html": [
       "<div>\n",
       "<style scoped>\n",
       "    .dataframe tbody tr th:only-of-type {\n",
       "        vertical-align: middle;\n",
       "    }\n",
       "\n",
       "    .dataframe tbody tr th {\n",
       "        vertical-align: top;\n",
       "    }\n",
       "\n",
       "    .dataframe thead th {\n",
       "        text-align: right;\n",
       "    }\n",
       "</style>\n",
       "<table border=\"1\" class=\"dataframe\">\n",
       "  <thead>\n",
       "    <tr style=\"text-align: right;\">\n",
       "      <th></th>\n",
       "      <th>Model</th>\n",
       "      <th>MAE Score</th>\n",
       "    </tr>\n",
       "  </thead>\n",
       "  <tbody>\n",
       "    <tr>\n",
       "      <th>0</th>\n",
       "      <td>MLR</td>\n",
       "      <td>0.531077</td>\n",
       "    </tr>\n",
       "    <tr>\n",
       "      <th>1</th>\n",
       "      <td>Random Forest</td>\n",
       "      <td>0.000047</td>\n",
       "    </tr>\n",
       "    <tr>\n",
       "      <th>2</th>\n",
       "      <td>Decision Tree</td>\n",
       "      <td>0.000039</td>\n",
       "    </tr>\n",
       "    <tr>\n",
       "      <th>3</th>\n",
       "      <td>XGBoost</td>\n",
       "      <td>0.023725</td>\n",
       "    </tr>\n",
       "  </tbody>\n",
       "</table>\n",
       "</div>"
      ],
      "text/plain": [
       "           Model  MAE Score\n",
       "0            MLR   0.531077\n",
       "1  Random Forest   0.000047\n",
       "2  Decision Tree   0.000039\n",
       "3        XGBoost   0.023725"
      ]
     },
     "execution_count": 236,
     "metadata": {},
     "output_type": "execute_result"
    }
   ],
   "source": [
    "mae = pd.DataFrame(data = scores, columns=['Model', 'MAE Score'])\n",
    "mae"
   ]
  },
  {
   "cell_type": "code",
   "execution_count": 237,
   "id": "057ca43c",
   "metadata": {},
   "outputs": [
    {
     "data": {
      "image/png": "[encoded data removed]",
      "text/plain": [
       "<Figure size 1000x700 with 1 Axes>"
      ]
     },
     "metadata": {},
     "output_type": "display_data"
    }
   ],
   "source": [
    "mae.sort_values(by=(['MAE Score']), ascending=False, inplace=True)\n",
    "\n",
    "f, axe = plt.subplots(1,1, figsize=(10,7))\n",
    "\n",
    "model_colors = ['red', 'blue', 'green', 'navy']\n",
    "\n",
    "sns.barplot(x = mae['Model'], y=mae['MAE Score'], ax = axe, palette=model_colors)\n",
    "\n",
    "axe.set_xlabel('Model', size=20)\n",
    "axe.set_ylabel('Mean Absolute Error', size=20)\n",
    "\n",
    "plt.show()"
   ]
  },
  {
   "cell_type": "code",
   "execution_count": 238,
   "id": "ad6cb143",
   "metadata": {},
   "outputs": [],
   "source": [
    "#BASED ON THE MAE, IT IS CONCLUDED THAT THE RANDOM FOREST MODEL IS \n",
    "#THE BEST REGRESSION MODEL FOR PREDICTING THE PLANE PRICE BASED ON \n",
    "#14 PREDICTOR VARIABLES"
   ]
  },
  {
   "cell_type": "code",
   "execution_count": 239,
   "id": "7f6a8a49",
   "metadata": {},
   "outputs": [
    {
     "name": "stdout",
     "output_type": "stream",
     "text": [
      "MLR score: 0.9811544908160008\n",
      "RF score: 0.9999999983875776\n",
      "DT score: 1.0\n",
      "XGB score: 0.9999053883212567\n"
     ]
    }
   ],
   "source": [
    "# Calculating the training accuracy score\n",
    "print(\"MLR score:\", model_mlr.score(X_train_scaled, y_train))      # OK\n",
    "print(\"RF score:\", model_rf.score(X_train_scaled, y_train))        # FIXED\n",
    "print(\"DT score:\", model_dt.score(X_train_scaled, y_train))        # FIXED\n",
    "print(\"XGB score:\", model_xgb.score(X_train_scaled, y_train))      # FIXED"
   ]
  },
  {
   "cell_type": "code",
   "execution_count": 240,
   "id": "c8d282a9",
   "metadata": {},
   "outputs": [
    {
     "name": "stdout",
     "output_type": "stream",
     "text": [
      "R2 score for Random Forest is 0.9999999920870457\n",
      "R2 score for MLR is 0.9812041360334663\n",
      "R2 score for Decision Tree is 0.9999999835755218\n",
      "R2 score for XGBoost is 0.9998361154723958\n"
     ]
    }
   ],
   "source": [
    "from sklearn.metrics import r2_score\n",
    "\n",
    "r2_rf = r2_score(y_test, y_pred_RF)\n",
    "print('R2 score for Random Forest is', r2_rf)\n",
    "\n",
    "r2_mlr = r2_score(y_test, y_pred_MLR)\n",
    "print('R2 score for MLR is', r2_mlr)\n",
    "\n",
    "r2_dt = r2_score(y_test, y_pred_DT)\n",
    "print('R2 score for Decision Tree is', r2_dt)\n",
    "\n",
    "r2_xgb = r2_score(y_test, y_pred_XGB)\n",
    "print('R2 score for XGBoost is', r2_xgb)"
   ]
  },
  {
   "cell_type": "code",
   "execution_count": 241,
   "id": "ff3e89cf",
   "metadata": {},
   "outputs": [],
   "source": [
    "# 📌 Model Evaluation Summary:\n",
    "# - MAE (Mean Absolute Error): Random Forest has the lowest error (0.002484), indicating the most accurate predictions.\n",
    "# - Training Accuracy: All tree-based models are near perfect, with R² > 0.999.\n",
    "# - R² on Test Data: Decision Tree slightly edges out others, but all are excellent.\n",
    "# ❗ MLR (Multiple Linear Regression) has high error and lower performance. Not suitable for this dataset.\n",
    "\n",
    "# ✅ Final Conclusion:\n",
    "# Based on MAE and overall metrics, Random Forest Regressor is the best model for predicting Actual Water Bills in OMR."
   ]
  },
  {
   "cell_type": "code",
   "execution_count": 242,
   "id": "878af847",
   "metadata": {},
   "outputs": [],
   "source": [
    "target_index = dataTrain.columns.get_loc('Actual Bill OMR')"
   ]
  },
  {
   "cell_type": "code",
   "execution_count": 243,
   "id": "ef6c1658",
   "metadata": {},
   "outputs": [],
   "source": [
    "# Load the scaler\n",
    "import pickle\n",
    "with open(\"scaler.pkl\", \"rb\") as f:\n",
    "    loaded_scaler = pickle.load(f)\n",
    "\n",
    "# Reload test features\n",
    "features = ['family member', 'weekly', 'Monthly Consumption', 'by cycle', 'seasons']\n",
    "X = dataTrain[features]\n",
    "y = dataTrain['Actual Bill OMR']\n",
    "\n",
    "from sklearn.model_selection import train_test_split\n",
    "X_train, X_test, y_train, y_test = train_test_split(X, y, test_size=0.2, random_state=42)\n",
    "\n",
    "# Apply same scaling\n",
    "X_test_scaled = loaded_scaler.transform(X_test)"
   ]
  },
  {
   "cell_type": "code",
   "execution_count": 244,
   "id": "2bc4f099",
   "metadata": {},
   "outputs": [],
   "source": [
    "import pickle\n",
    "\n",
    "# Save the model\n",
    "with open(\"water_usage_model.pkl\", \"wb\") as f:\n",
    "    pickle.dump(model_rf, f)\n",
    "\n",
    "# Save the scaler\n",
    "with open(\"scaler.pkl\", \"wb\") as f:\n",
    "    pickle.dump(scaler, f)"
   ]
  },
  {
   "cell_type": "code",
   "execution_count": 245,
   "id": "ae992279",
   "metadata": {},
   "outputs": [
    {
     "name": "stdout",
     "output_type": "stream",
     "text": [
      "Target index: 4\n",
      "Scaler shape: [ 2.26899349  2.10144184  9.00786958 27.07488678  1.11963047]\n"
     ]
    }
   ],
   "source": [
    "print(\"Target index:\", target_index)\n",
    "print(\"Scaler shape:\", loaded_scaler.scale_)"
   ]
  },
  {
   "cell_type": "code",
   "execution_count": 246,
   "id": "2f0fab7d",
   "metadata": {},
   "outputs": [],
   "source": [
    "import pickle\n",
    "filename = 'water_usage_train'\n",
    "pickle.dump(model_rf, open(filename, 'wb'))"
   ]
  },
  {
   "cell_type": "code",
   "execution_count": 247,
   "id": "5bb7ccb4",
   "metadata": {},
   "outputs": [],
   "source": [
    "import pickle\n",
    "with open(\"water_usage_train\", \"wb\") as f:\n",
    "    pickle.dump(model_rf, f)"
   ]
  },
  {
   "cell_type": "code",
   "execution_count": 248,
   "id": "62cd603b",
   "metadata": {},
   "outputs": [],
   "source": [
    "features = ['family member', 'weekly', 'Monthly Consumption', 'by cycle', 'seasons']\n",
    "x_test_actual = dataTrain[features].iloc[-len(X_test):].copy()"
   ]
  },
  {
   "cell_type": "code",
   "execution_count": 249,
   "id": "342ccb91",
   "metadata": {},
   "outputs": [
    {
     "name": "stdout",
     "output_type": "stream",
     "text": [
      "(20000, 5)\n"
     ]
    }
   ],
   "source": [
    "print(x_test_actual.shape)"
   ]
  },
  {
   "cell_type": "code",
   "execution_count": 250,
   "id": "75a6ec9d",
   "metadata": {},
   "outputs": [],
   "source": [
    "predicted_price = model_rf.predict(X_test_scaled)"
   ]
  },
  {
   "cell_type": "code",
   "execution_count": 251,
   "id": "abe97ab0",
   "metadata": {},
   "outputs": [
    {
     "data": {
      "text/html": [
       "<div>\n",
       "<style scoped>\n",
       "    .dataframe tbody tr th:only-of-type {\n",
       "        vertical-align: middle;\n",
       "    }\n",
       "\n",
       "    .dataframe tbody tr th {\n",
       "        vertical-align: top;\n",
       "    }\n",
       "\n",
       "    .dataframe thead th {\n",
       "        text-align: right;\n",
       "    }\n",
       "</style>\n",
       "<table border=\"1\" class=\"dataframe\">\n",
       "  <thead>\n",
       "    <tr style=\"text-align: right;\">\n",
       "      <th></th>\n",
       "      <th>Actual</th>\n",
       "      <th>Predicted</th>\n",
       "    </tr>\n",
       "  </thead>\n",
       "  <tbody>\n",
       "    <tr>\n",
       "      <th>0</th>\n",
       "      <td>1.945</td>\n",
       "      <td>12.044</td>\n",
       "    </tr>\n",
       "    <tr>\n",
       "      <th>1</th>\n",
       "      <td>4.380</td>\n",
       "      <td>1.978</td>\n",
       "    </tr>\n",
       "    <tr>\n",
       "      <th>2</th>\n",
       "      <td>16.710</td>\n",
       "      <td>3.404</td>\n",
       "    </tr>\n",
       "    <tr>\n",
       "      <th>3</th>\n",
       "      <td>5.428</td>\n",
       "      <td>13.694</td>\n",
       "    </tr>\n",
       "    <tr>\n",
       "      <th>4</th>\n",
       "      <td>5.992</td>\n",
       "      <td>12.275</td>\n",
       "    </tr>\n",
       "    <tr>\n",
       "      <th>5</th>\n",
       "      <td>8.183</td>\n",
       "      <td>7.932</td>\n",
       "    </tr>\n",
       "    <tr>\n",
       "      <th>6</th>\n",
       "      <td>2.784</td>\n",
       "      <td>11.186</td>\n",
       "    </tr>\n",
       "    <tr>\n",
       "      <th>7</th>\n",
       "      <td>6.771</td>\n",
       "      <td>6.000</td>\n",
       "    </tr>\n",
       "    <tr>\n",
       "      <th>8</th>\n",
       "      <td>11.575</td>\n",
       "      <td>7.721</td>\n",
       "    </tr>\n",
       "    <tr>\n",
       "      <th>9</th>\n",
       "      <td>5.232</td>\n",
       "      <td>4.768</td>\n",
       "    </tr>\n",
       "  </tbody>\n",
       "</table>\n",
       "</div>"
      ],
      "text/plain": [
       "   Actual  Predicted\n",
       "0   1.945     12.044\n",
       "1   4.380      1.978\n",
       "2  16.710      3.404\n",
       "3   5.428     13.694\n",
       "4   5.992     12.275\n",
       "5   8.183      7.932\n",
       "6   2.784     11.186\n",
       "7   6.771      6.000\n",
       "8  11.575      7.721\n",
       "9   5.232      4.768"
      ]
     },
     "metadata": {},
     "output_type": "display_data"
    }
   ],
   "source": [
    "features = ['family member', 'weekly', 'Monthly Consumption', 'by cycle', 'seasons']\n",
    "\n",
    "x_test_actual = dataTrain[features].iloc[-len(X_test):].copy()\n",
    "\n",
    "with open(\"scaler.pkl\", \"rb\") as f:\n",
    "    loaded_scaler = pickle.load(f)\n",
    "\n",
    "x_test_scaled = loaded_scaler.transform(x_test_actual)\n",
    "\n",
    "with open(\"water_usage_train\", \"rb\") as f:\n",
    "    loaded_model = pickle.load(f)\n",
    "\n",
    "predicted_price = loaded_model.predict(x_test_scaled)\n",
    "\n",
    "import pandas as pd\n",
    "\n",
    "results = pd.DataFrame({\n",
    "    'Actual': y_test.values,\n",
    "    'Predicted': predicted_price\n",
    "})\n",
    "\n",
    "display(results.head(10))"
   ]
  },
  {
   "cell_type": "code",
   "execution_count": null,
   "id": "06730d5c",
   "metadata": {},
   "outputs": [],
   "source": []
  }
 ],
 "metadata": {
  "kernelspec": {
   "display_name": "Python 3 (ipykernel)",
   "language": "python",
   "name": "python3"
  },
  "language_info": {
   "codemirror_mode": {
    "name": "ipython",
    "version": 3
   },
   "file_extension": ".py",
   "mimetype": "text/x-python",
   "name": "python",
   "nbconvert_exporter": "python",
   "pygments_lexer": "ipython3",
   "version": "3.9.13"
  }
 },
 "nbformat": 4,
 "nbformat_minor": 5
}
